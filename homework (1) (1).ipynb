{
 "cells": [
  {
   "cell_type": "markdown",
   "id": "54f578f3-52cb-4a24-aa90-abf969c80b68",
   "metadata": {},
   "source": [
    "## Описание колонок\n",
    "\n",
    "`Rank` - Общий рейтинг продаж\n",
    "\n",
    "`Name` - Название игры\n",
    "\n",
    "`Platform` - Платформа, на которой выпущена игра (например, PC, PS4 и т.д.)\n",
    "\n",
    "`Year` - Год выпуска игры\n",
    "\n",
    "`Genre` - Жанр игры\n",
    "\n",
    "`Publisher` - Издатель игры\n",
    "\n",
    "`NA_Sales` - Продажи в Северной Америке (в миллионах)\n",
    "\n",
    "`EU_Sales` - Продажи в Европе (в миллионах)\n",
    "\n",
    "`JP_Sales` - Продажи в Японии (в миллионах)\n",
    "\n",
    "`Other_Sales` - Продажи в остальном мире (в миллионах)\n",
    "\n",
    "`Global_Sales` - Общемировые продажи."
   ]
  },
  {
   "cell_type": "code",
   "execution_count": 175,
   "id": "59bc965d-2d42-4fcd-9da9-2a12724b65ed",
   "metadata": {},
   "outputs": [
    {
     "data": {
      "text/html": [
       "<div>\n",
       "<style scoped>\n",
       "    .dataframe tbody tr th:only-of-type {\n",
       "        vertical-align: middle;\n",
       "    }\n",
       "\n",
       "    .dataframe tbody tr th {\n",
       "        vertical-align: top;\n",
       "    }\n",
       "\n",
       "    .dataframe thead th {\n",
       "        text-align: right;\n",
       "    }\n",
       "</style>\n",
       "<table border=\"1\" class=\"dataframe\">\n",
       "  <thead>\n",
       "    <tr style=\"text-align: right;\">\n",
       "      <th></th>\n",
       "      <th>Rank</th>\n",
       "      <th>Name</th>\n",
       "      <th>Platform</th>\n",
       "      <th>Year</th>\n",
       "      <th>Genre</th>\n",
       "      <th>Publisher</th>\n",
       "      <th>NA_Sales</th>\n",
       "      <th>EU_Sales</th>\n",
       "      <th>JP_Sales</th>\n",
       "      <th>Other_Sales</th>\n",
       "      <th>Global_Sales</th>\n",
       "    </tr>\n",
       "  </thead>\n",
       "  <tbody>\n",
       "    <tr>\n",
       "      <th>0</th>\n",
       "      <td>1</td>\n",
       "      <td>Wii Sports</td>\n",
       "      <td>Wii</td>\n",
       "      <td>2006.0</td>\n",
       "      <td>Sports</td>\n",
       "      <td>Nintendo</td>\n",
       "      <td>41.49</td>\n",
       "      <td>29.02</td>\n",
       "      <td>3.77</td>\n",
       "      <td>8.46</td>\n",
       "      <td>82.74</td>\n",
       "    </tr>\n",
       "    <tr>\n",
       "      <th>1</th>\n",
       "      <td>2</td>\n",
       "      <td>Super Mario Bros.</td>\n",
       "      <td>NES</td>\n",
       "      <td>1985.0</td>\n",
       "      <td>Platform</td>\n",
       "      <td>Nintendo</td>\n",
       "      <td>29.08</td>\n",
       "      <td>3.58</td>\n",
       "      <td>6.81</td>\n",
       "      <td>0.77</td>\n",
       "      <td>40.24</td>\n",
       "    </tr>\n",
       "    <tr>\n",
       "      <th>2</th>\n",
       "      <td>3</td>\n",
       "      <td>Mario Kart Wii</td>\n",
       "      <td>Wii</td>\n",
       "      <td>2008.0</td>\n",
       "      <td>Racing</td>\n",
       "      <td>Nintendo</td>\n",
       "      <td>15.85</td>\n",
       "      <td>12.88</td>\n",
       "      <td>3.79</td>\n",
       "      <td>3.31</td>\n",
       "      <td>35.82</td>\n",
       "    </tr>\n",
       "    <tr>\n",
       "      <th>3</th>\n",
       "      <td>4</td>\n",
       "      <td>Wii Sports Resort</td>\n",
       "      <td>Wii</td>\n",
       "      <td>2009.0</td>\n",
       "      <td>Sports</td>\n",
       "      <td>Nintendo</td>\n",
       "      <td>15.75</td>\n",
       "      <td>11.01</td>\n",
       "      <td>3.28</td>\n",
       "      <td>2.96</td>\n",
       "      <td>33.00</td>\n",
       "    </tr>\n",
       "    <tr>\n",
       "      <th>4</th>\n",
       "      <td>5</td>\n",
       "      <td>Pokemon Red/Pokemon Blue</td>\n",
       "      <td>GB</td>\n",
       "      <td>1996.0</td>\n",
       "      <td>Role-Playing</td>\n",
       "      <td>Nintendo</td>\n",
       "      <td>11.27</td>\n",
       "      <td>8.89</td>\n",
       "      <td>10.22</td>\n",
       "      <td>1.00</td>\n",
       "      <td>31.37</td>\n",
       "    </tr>\n",
       "    <tr>\n",
       "      <th>...</th>\n",
       "      <td>...</td>\n",
       "      <td>...</td>\n",
       "      <td>...</td>\n",
       "      <td>...</td>\n",
       "      <td>...</td>\n",
       "      <td>...</td>\n",
       "      <td>...</td>\n",
       "      <td>...</td>\n",
       "      <td>...</td>\n",
       "      <td>...</td>\n",
       "      <td>...</td>\n",
       "    </tr>\n",
       "    <tr>\n",
       "      <th>16593</th>\n",
       "      <td>16596</td>\n",
       "      <td>Woody Woodpecker in Crazy Castle 5</td>\n",
       "      <td>GBA</td>\n",
       "      <td>2002.0</td>\n",
       "      <td>Platform</td>\n",
       "      <td>Kemco</td>\n",
       "      <td>0.01</td>\n",
       "      <td>0.00</td>\n",
       "      <td>0.00</td>\n",
       "      <td>0.00</td>\n",
       "      <td>0.01</td>\n",
       "    </tr>\n",
       "    <tr>\n",
       "      <th>16594</th>\n",
       "      <td>16597</td>\n",
       "      <td>Men in Black II: Alien Escape</td>\n",
       "      <td>GC</td>\n",
       "      <td>2003.0</td>\n",
       "      <td>Shooter</td>\n",
       "      <td>Infogrames</td>\n",
       "      <td>0.01</td>\n",
       "      <td>0.00</td>\n",
       "      <td>0.00</td>\n",
       "      <td>0.00</td>\n",
       "      <td>0.01</td>\n",
       "    </tr>\n",
       "    <tr>\n",
       "      <th>16595</th>\n",
       "      <td>16598</td>\n",
       "      <td>SCORE International Baja 1000: The Official Game</td>\n",
       "      <td>PS2</td>\n",
       "      <td>2008.0</td>\n",
       "      <td>Racing</td>\n",
       "      <td>Activision</td>\n",
       "      <td>0.00</td>\n",
       "      <td>0.00</td>\n",
       "      <td>0.00</td>\n",
       "      <td>0.00</td>\n",
       "      <td>0.01</td>\n",
       "    </tr>\n",
       "    <tr>\n",
       "      <th>16596</th>\n",
       "      <td>16599</td>\n",
       "      <td>Know How 2</td>\n",
       "      <td>DS</td>\n",
       "      <td>2010.0</td>\n",
       "      <td>Puzzle</td>\n",
       "      <td>7G//AMES</td>\n",
       "      <td>0.00</td>\n",
       "      <td>0.01</td>\n",
       "      <td>0.00</td>\n",
       "      <td>0.00</td>\n",
       "      <td>0.01</td>\n",
       "    </tr>\n",
       "    <tr>\n",
       "      <th>16597</th>\n",
       "      <td>16600</td>\n",
       "      <td>Spirits &amp; Spells</td>\n",
       "      <td>GBA</td>\n",
       "      <td>2003.0</td>\n",
       "      <td>Platform</td>\n",
       "      <td>Wanadoo</td>\n",
       "      <td>0.01</td>\n",
       "      <td>0.00</td>\n",
       "      <td>0.00</td>\n",
       "      <td>0.00</td>\n",
       "      <td>0.01</td>\n",
       "    </tr>\n",
       "  </tbody>\n",
       "</table>\n",
       "<p>16598 rows × 11 columns</p>\n",
       "</div>"
      ],
      "text/plain": [
       "        Rank                                              Name Platform  \\\n",
       "0          1                                        Wii Sports      Wii   \n",
       "1          2                                 Super Mario Bros.      NES   \n",
       "2          3                                    Mario Kart Wii      Wii   \n",
       "3          4                                 Wii Sports Resort      Wii   \n",
       "4          5                          Pokemon Red/Pokemon Blue       GB   \n",
       "...      ...                                               ...      ...   \n",
       "16593  16596                Woody Woodpecker in Crazy Castle 5      GBA   \n",
       "16594  16597                     Men in Black II: Alien Escape       GC   \n",
       "16595  16598  SCORE International Baja 1000: The Official Game      PS2   \n",
       "16596  16599                                        Know How 2       DS   \n",
       "16597  16600                                  Spirits & Spells      GBA   \n",
       "\n",
       "         Year         Genre   Publisher  NA_Sales  EU_Sales  JP_Sales  \\\n",
       "0      2006.0        Sports    Nintendo     41.49     29.02      3.77   \n",
       "1      1985.0      Platform    Nintendo     29.08      3.58      6.81   \n",
       "2      2008.0        Racing    Nintendo     15.85     12.88      3.79   \n",
       "3      2009.0        Sports    Nintendo     15.75     11.01      3.28   \n",
       "4      1996.0  Role-Playing    Nintendo     11.27      8.89     10.22   \n",
       "...       ...           ...         ...       ...       ...       ...   \n",
       "16593  2002.0      Platform       Kemco      0.01      0.00      0.00   \n",
       "16594  2003.0       Shooter  Infogrames      0.01      0.00      0.00   \n",
       "16595  2008.0        Racing  Activision      0.00      0.00      0.00   \n",
       "16596  2010.0        Puzzle    7G//AMES      0.00      0.01      0.00   \n",
       "16597  2003.0      Platform     Wanadoo      0.01      0.00      0.00   \n",
       "\n",
       "       Other_Sales  Global_Sales  \n",
       "0             8.46         82.74  \n",
       "1             0.77         40.24  \n",
       "2             3.31         35.82  \n",
       "3             2.96         33.00  \n",
       "4             1.00         31.37  \n",
       "...            ...           ...  \n",
       "16593         0.00          0.01  \n",
       "16594         0.00          0.01  \n",
       "16595         0.00          0.01  \n",
       "16596         0.00          0.01  \n",
       "16597         0.00          0.01  \n",
       "\n",
       "[16598 rows x 11 columns]"
      ]
     },
     "execution_count": 175,
     "metadata": {},
     "output_type": "execute_result"
    }
   ],
   "source": [
    "import pandas as pd\n",
    "\n",
    "# загрузите датасет\n",
    "df = pd.read_csv(\"vgsales.csv\")\n",
    "\n",
    "# после того датасет корректно загрузился, можно посмотреть на данные глазами\n",
    "df"
   ]
  },
  {
   "cell_type": "markdown",
   "id": "f93e6f75-3421-43a7-bdd2-3f3ee5d4e1e3",
   "metadata": {},
   "source": [
    "### Дальше идут вопросы по датасету, на которые нужно найти ответ используя функционал библиотеки Pandas."
   ]
  },
  {
   "cell_type": "markdown",
   "id": "a71de13a-bf5f-48d5-8e9d-18332a5835b9",
   "metadata": {},
   "source": [
    "вопрос 1: Найдите количество уникальных игр в датасете.\n",
    "\n",
    "*note*: обратите внимание на функции unique, nunique в Pandas\n",
    "\n",
    "оригинал - https://pandas.pydata.org/docs/reference/api/pandas.unique.html\n",
    "\n",
    "на русском - https://runebook.dev/ru/docs/pandas/reference/api/pandas.unique"
   ]
  },
  {
   "cell_type": "code",
   "execution_count": 179,
   "id": "d43ca067-8dba-47ce-a52c-a0a866438ce8",
   "metadata": {},
   "outputs": [
    {
     "data": {
      "text/plain": [
       "11493"
      ]
     },
     "execution_count": 179,
     "metadata": {},
     "output_type": "execute_result"
    }
   ],
   "source": [
    "unique = len(df[\"Name\"].unique())\n",
    "unique"
   ]
  },
  {
   "cell_type": "markdown",
   "id": "fa8025a5-b6bb-4eec-92cd-a341b583e46f",
   "metadata": {},
   "source": [
    "вопрос 2: Какова общая величина продаж игр в Японии?"
   ]
  },
  {
   "cell_type": "code",
   "execution_count": 181,
   "id": "04440e2c-65cb-4ded-abd8-0b695fc68811",
   "metadata": {},
   "outputs": [
    {
     "data": {
      "text/plain": [
       "1291.02"
      ]
     },
     "execution_count": 181,
     "metadata": {},
     "output_type": "execute_result"
    }
   ],
   "source": [
    "jpSales = sum(df[\"JP_Sales\"])\n",
    "jpSales"
   ]
  },
  {
   "cell_type": "markdown",
   "id": "a2262e1d-9b80-4ac0-852c-9bb0d567bff0",
   "metadata": {},
   "source": [
    "вопрос 3: Какие три жанра игр самые популярные в Северной Америке (по количеству продаж)? "
   ]
  },
  {
   "cell_type": "code",
   "execution_count": 173,
   "id": "8b9e27f2-98d2-40c6-95ab-1d9a8e1a082f",
   "metadata": {},
   "outputs": [
    {
     "data": {
      "text/html": [
       "<div>\n",
       "<style scoped>\n",
       "    .dataframe tbody tr th:only-of-type {\n",
       "        vertical-align: middle;\n",
       "    }\n",
       "\n",
       "    .dataframe tbody tr th {\n",
       "        vertical-align: top;\n",
       "    }\n",
       "\n",
       "    .dataframe thead th {\n",
       "        text-align: right;\n",
       "    }\n",
       "</style>\n",
       "<table border=\"1\" class=\"dataframe\">\n",
       "  <thead>\n",
       "    <tr style=\"text-align: right;\">\n",
       "      <th></th>\n",
       "      <th>Genre</th>\n",
       "      <th>NA_Sales</th>\n",
       "    </tr>\n",
       "  </thead>\n",
       "  <tbody>\n",
       "    <tr>\n",
       "      <th>0</th>\n",
       "      <td>Action</td>\n",
       "      <td>877.83</td>\n",
       "    </tr>\n",
       "    <tr>\n",
       "      <th>1</th>\n",
       "      <td>Sports</td>\n",
       "      <td>683.35</td>\n",
       "    </tr>\n",
       "    <tr>\n",
       "      <th>2</th>\n",
       "      <td>Shooter</td>\n",
       "      <td>582.60</td>\n",
       "    </tr>\n",
       "  </tbody>\n",
       "</table>\n",
       "</div>"
      ],
      "text/plain": [
       "     Genre  NA_Sales\n",
       "0   Action    877.83\n",
       "1   Sports    683.35\n",
       "2  Shooter    582.60"
      ]
     },
     "execution_count": 173,
     "metadata": {},
     "output_type": "execute_result"
    }
   ],
   "source": [
    "GenreNA = df.pivot_table(index=['Genre'], values= 'NA_Sales', aggfunc='sum').sort_values(by='NA_Sales', ascending =False).reset_index()\n",
    "GenreNA[:3] "
   ]
  },
  {
   "cell_type": "markdown",
   "id": "4b880d2e-3b2a-4516-a11b-3fac6649519c",
   "metadata": {},
   "source": [
    "вопрос 4: Какая платформа была самой популярной (по количеству выпущенных игр) в 2000 году? А в 2015?"
   ]
  },
  {
   "cell_type": "code",
   "execution_count": 171,
   "id": "8d4ce573-99fe-401d-9514-7f3b44823417",
   "metadata": {
    "scrolled": true
   },
   "outputs": [
    {
     "name": "stdout",
     "output_type": "stream",
     "text": [
      "Platform\n",
      "PS    159\n",
      "Name: count, dtype: int64 Platform\n",
      "PS4    137\n",
      "Name: count, dtype: int64\n"
     ]
    }
   ],
   "source": [
    "dfyearpl = df[[\n",
    "    \"Year\", \"Platform\", \n",
    "]]\n",
    "\n",
    "year2000 = dfyearpl[dfyearpl.Year == 2000]\n",
    "toppl2000 = year2000[\"Platform\"].value_counts()\n",
    "\n",
    "year2015 = dfyearpl[dfyearpl.Year == 2015]\n",
    "toppl2015 = year2015[\"Platform\"].value_counts()\n",
    "\n",
    "print (toppl2000.head(1), toppl2015.head(1))"
   ]
  },
  {
   "cell_type": "markdown",
   "id": "8793a5ae-b540-4cc3-b45b-154f43215a10",
   "metadata": {},
   "source": [
    "вопрос 5: Какой издатель выпустил больше всего игр в период 2012-2015 оба конца включительно?"
   ]
  },
  {
   "cell_type": "code",
   "execution_count": 167,
   "id": "5ee597b8-819c-4e8d-a101-2ddd971cd5fe",
   "metadata": {},
   "outputs": [
    {
     "data": {
      "text/plain": [
       "Publisher\n",
       "Namco Bandai Games    285\n",
       "Name: count, dtype: int64"
      ]
     },
     "execution_count": 167,
     "metadata": {},
     "output_type": "execute_result"
    }
   ],
   "source": [
    "dfyearpub = df[[\n",
    "    \"Year\", \"Publisher\", \n",
    "]]\n",
    "\n",
    "yearpub = dfyearpub[(dfyearpub.Year == 2012) | (dfyearpub.Year == 2013) | (dfyearpub.Year == 2014) | (dfyearpub.Year == 2015) ]\n",
    " \n",
    "toppub = yearpub[\"Publisher\"].value_counts()\n",
    "\n",
    "toppub.head(1)"
   ]
  },
  {
   "cell_type": "markdown",
   "id": "d86e2a2b-f244-4e56-996c-457909f910ef",
   "metadata": {},
   "source": [
    "вопрос 6: Какой процент игр в жанре спорт был продан в Европе?"
   ]
  },
  {
   "cell_type": "code",
   "execution_count": 165,
   "id": "d4dcc386-d377-434d-9270-d24a061f233b",
   "metadata": {},
   "outputs": [
    {
     "data": {
      "text/plain": [
       "15.48191756397563"
      ]
     },
     "execution_count": 165,
     "metadata": {},
     "output_type": "execute_result"
    }
   ],
   "source": [
    "dfEUsport = df[[\n",
    "    \"Genre\", \"EU_Sales\"\n",
    "]]\n",
    "\n",
    "sumEU = sum(dfEUsport[\"EU_Sales\"])\n",
    "sportEU = dfEUsport[dfEUsport.Genre == \"Sports\"]\n",
    "\n",
    "sportEU = sportEU.pivot_table(index=['Genre'], values= 'EU_Sales', aggfunc='sum').sort_values(by='EU_Sales', ascending =False).reset_index()\n",
    "sportEU = sum(sportEU[\"EU_Sales\"])\n",
    "result = sportEU / sumEU * 100 \n",
    "\n",
    "result"
   ]
  },
  {
   "cell_type": "code",
   "execution_count": null,
   "id": "a41b399e-fe29-47b6-8a20-57990f662b58",
   "metadata": {},
   "outputs": [],
   "source": []
  }
 ],
 "metadata": {
  "kernelspec": {
   "display_name": "Python 3 (ipykernel)",
   "language": "python",
   "name": "python3"
  },
  "language_info": {
   "codemirror_mode": {
    "name": "ipython",
    "version": 3
   },
   "file_extension": ".py",
   "mimetype": "text/x-python",
   "name": "python",
   "nbconvert_exporter": "python",
   "pygments_lexer": "ipython3",
   "version": "3.12.4"
  }
 },
 "nbformat": 4,
 "nbformat_minor": 5
}
